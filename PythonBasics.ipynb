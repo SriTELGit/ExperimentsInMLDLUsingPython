{
 "cells": [
  {
   "cell_type": "code",
   "execution_count": null,
   "id": "2541a9bc-0009-4154-af2b-6cf5e31459ca",
   "metadata": {
    "scrolled": true
   },
   "outputs": [],
   "source": [
    "print('Hello Python!')"
   ]
  },
  {
   "cell_type": "code",
   "execution_count": null,
   "id": "5293cf2b-7546-4039-9270-90961a9ffb2a",
   "metadata": {},
   "outputs": [],
   "source": [
    "v = 9\n",
    "if v == 10:\n",
    "    print('v is ten')\n",
    "elif v > 10:\n",
    "    print('v greater than ten')\n",
    "else:\n",
    "    print('v lesser than ten')"
   ]
  },
  {
   "cell_type": "code",
   "execution_count": null,
   "id": "55be7ede-e906-46fe-9581-f164776819aa",
   "metadata": {},
   "outputs": [],
   "source": [
    "for i in range(10):\n",
    "    print('i val = ' + str(i))"
   ]
  },
  {
   "cell_type": "code",
   "execution_count": null,
   "id": "acd4d64d-277b-431e-88e9-9bf9630d06b3",
   "metadata": {},
   "outputs": [],
   "source": [
    "i = 0\n",
    "while i < 10:\n",
    "    print('i val = ' + str(i))\n",
    "    i += 1"
   ]
  },
  {
   "cell_type": "code",
   "execution_count": null,
   "id": "152bb8e7-4af5-42d0-be5b-ed097f585d09",
   "metadata": {},
   "outputs": [],
   "source": [
    "#tuples are read-only collection of items\n",
    "a = (1,2,3)\n",
    "print(a)\n",
    "print(a[0])\n",
    "#a[0]=4"
   ]
  },
  {
   "cell_type": "code",
   "execution_count": null,
   "id": "506a2532-38ff-44d0-8d4c-6d0991fa1453",
   "metadata": {},
   "outputs": [],
   "source": [
    "#list \n",
    "tmpList = [1,2,3,4,5,6]\n",
    "print(f'List is {tmpList}, 0th item is {tmpList[0]}, length is {len(tmpList)}')\n",
    "tmpList[0] = 11\n",
    "tmpList.append(7)\n",
    "print(f'List after appending {tmpList}')\n",
    "for v in tmpList:\n",
    "    print(v)"
   ]
  },
  {
   "cell_type": "code",
   "execution_count": null,
   "id": "81cfdd5d-810c-4a98-acd7-da9d3545939f",
   "metadata": {},
   "outputs": [],
   "source": [
    "# dictionary is a key-value pair\n",
    "tmpDict = {'a':10, 'b':22, 'c':33 }\n",
    "print(f'Dictionary is {tmpDict}, item with key \"a\" is {tmpDict[\"a\"]}, length is {len(tmpDict)}')\n",
    "print(f'keys of dict are {tmpDict.keys()}')\n",
    "print(f'values of dict are {tmpDict.values()}')\n",
    "tmpDict['b'] = 44\n",
    "tmpDict['d'] = 55\n",
    "print(f'Updated Dict {tmpDict}')\n",
    "for k in tmpDict.keys():\n",
    "    print(f'key {k} val is {tmpDict[k]}')\n"
   ]
  },
  {
   "cell_type": "code",
   "execution_count": null,
   "id": "2b24ccf4-cb67-4390-a738-284f578290f3",
   "metadata": {},
   "outputs": [],
   "source": [
    "# simple function to add 2 inputs \n",
    "def SimpFunc(x,y):\n",
    "    return (x+y)"
   ]
  },
  {
   "cell_type": "code",
   "execution_count": null,
   "id": "9676b21c-0b6a-4209-a784-3a97cd2f9924",
   "metadata": {},
   "outputs": [],
   "source": [
    "tmpS = SimpFunc(1,2)\n",
    "print(f'Sum is {tmpS}')"
   ]
  },
  {
   "cell_type": "code",
   "execution_count": null,
   "id": "be1a9562-010f-47fe-b123-bc8ae327ae74",
   "metadata": {},
   "outputs": [],
   "source": []
  }
 ],
 "metadata": {
  "kernelspec": {
   "display_name": "Python 3 (ipykernel)",
   "language": "python",
   "name": "python3"
  },
  "language_info": {
   "codemirror_mode": {
    "name": "ipython",
    "version": 3
   },
   "file_extension": ".py",
   "mimetype": "text/x-python",
   "name": "python",
   "nbconvert_exporter": "python",
   "pygments_lexer": "ipython3",
   "version": "3.11.4"
  }
 },
 "nbformat": 4,
 "nbformat_minor": 5
}
