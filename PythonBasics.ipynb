{
 "cells": [
  {
   "cell_type": "code",
   "execution_count": null,
   "id": "2541a9bc-0009-4154-af2b-6cf5e31459ca",
   "metadata": {
    "scrolled": true
   },
   "outputs": [],
   "source": [
    "print('Hello Python!')"
   ]
  },
  {
   "cell_type": "code",
   "execution_count": null,
   "id": "5293cf2b-7546-4039-9270-90961a9ffb2a",
   "metadata": {},
   "outputs": [],
   "source": [
    "v = 9\n",
    "if v == 10:\n",
    "    print('v is ten')\n",
    "elif v > 10:\n",
    "    print('v greater than ten')\n",
    "else:\n",
    "    print('v lesser than ten')"
   ]
  },
  {
   "cell_type": "code",
   "execution_count": 49,
   "id": "55be7ede-e906-46fe-9581-f164776819aa",
   "metadata": {},
   "outputs": [
    {
     "name": "stdout",
     "output_type": "stream",
     "text": [
      "i val = 0\n",
      "i val = 2\n",
      "i val = 3\n",
      "i val = 4\n",
      "i val = 5\n",
      "i val = 6\n",
      "i val = 7\n",
      "i val = 8\n"
     ]
    }
   ],
   "source": [
    "for i in range(10):\n",
    "    if (i == 1):\n",
    "        continue\n",
    "    elif (i > 8):\n",
    "        break\n",
    "    else:\n",
    "        print('i val = ' + str(i))"
   ]
  },
  {
   "cell_type": "code",
   "execution_count": null,
   "id": "acd4d64d-277b-431e-88e9-9bf9630d06b3",
   "metadata": {},
   "outputs": [],
   "source": [
    "i = 0\n",
    "while i < 10:\n",
    "    print('i val = ' + str(i))\n",
    "    i += 1"
   ]
  },
  {
   "cell_type": "code",
   "execution_count": 39,
   "id": "152bb8e7-4af5-42d0-be5b-ed097f585d09",
   "metadata": {},
   "outputs": [
    {
     "name": "stdout",
     "output_type": "stream",
     "text": [
      "(1, 2, 3)\n",
      "1\n",
      "b is 32 c is 13000\n"
     ]
    }
   ],
   "source": [
    "#tuples are read-only collection of items\n",
    "a = (1,2,3)\n",
    "print(a)\n",
    "print(a[0])\n",
    "#a[0]=4\n",
    "(b,c) = '32,13000'.split(',')\n",
    "print(f'b is {b} c is {c}')"
   ]
  },
  {
   "cell_type": "code",
   "execution_count": null,
   "id": "506a2532-38ff-44d0-8d4c-6d0991fa1453",
   "metadata": {},
   "outputs": [],
   "source": [
    "#list \n",
    "tmpList = [1,2,3,4,5,6]\n",
    "print(f'List is {tmpList}, 0th item is {tmpList[0]}, length is {len(tmpList)}')\n",
    "tmpList[0] = 11\n",
    "tmpList.append(7)\n",
    "print(f'List after appending {tmpList}')\n",
    "for v in tmpList:\n",
    "    print(v)"
   ]
  },
  {
   "cell_type": "code",
   "execution_count": null,
   "id": "81cfdd5d-810c-4a98-acd7-da9d3545939f",
   "metadata": {},
   "outputs": [],
   "source": [
    "# dictionary is a key-value pair\n",
    "tmpDict = {'a':10, 'b':22, 'c':33 }\n",
    "print(f'Dictionary is {tmpDict}, item with key \"a\" is {tmpDict[\"a\"]}, length is {len(tmpDict)}')\n",
    "print(f'keys of dict are {tmpDict.keys()}')\n",
    "print(f'values of dict are {tmpDict.values()}')\n",
    "tmpDict['b'] = 44\n",
    "tmpDict['d'] = 55\n",
    "print(f'Updated Dict {tmpDict}')\n",
    "for k in tmpDict.keys():\n",
    "    print(f'key {k} val is {tmpDict[k]}')\n"
   ]
  },
  {
   "cell_type": "code",
   "execution_count": 43,
   "id": "6bbf84c2-debf-4337-84f3-556c1f279059",
   "metadata": {},
   "outputs": [
    {
     "ename": "KeyError",
     "evalue": "'e'",
     "output_type": "error",
     "traceback": [
      "\u001b[1;31m---------------------------------------------------------------------------\u001b[0m",
      "\u001b[1;31mKeyError\u001b[0m                                  Traceback (most recent call last)",
      "Cell \u001b[1;32mIn[43], line 1\u001b[0m\n\u001b[1;32m----> 1\u001b[0m \u001b[38;5;28mprint\u001b[39m(\u001b[43mtmpDict\u001b[49m\u001b[43m[\u001b[49m\u001b[38;5;124;43m'\u001b[39;49m\u001b[38;5;124;43me\u001b[39;49m\u001b[38;5;124;43m'\u001b[39;49m\u001b[43m]\u001b[49m)\n",
      "\u001b[1;31mKeyError\u001b[0m: 'e'"
     ]
    }
   ],
   "source": [
    "print(tmpDict['e'])"
   ]
  },
  {
   "cell_type": "code",
   "execution_count": 42,
   "id": "631d04d3-fc00-402d-bcf1-4310abeeed9d",
   "metadata": {},
   "outputs": [
    {
     "name": "stdout",
     "output_type": "stream",
     "text": [
      "None\n",
      "55\n"
     ]
    }
   ],
   "source": [
    "print(tmpDict.get('e'))\n",
    "print(tmpDict.get('d'))"
   ]
  },
  {
   "cell_type": "code",
   "execution_count": null,
   "id": "2b24ccf4-cb67-4390-a738-284f578290f3",
   "metadata": {},
   "outputs": [],
   "source": [
    "# simple function to add 2 inputs \n",
    "def SimpFunc(x,y):\n",
    "    return (x+y)"
   ]
  },
  {
   "cell_type": "code",
   "execution_count": null,
   "id": "9676b21c-0b6a-4209-a784-3a97cd2f9924",
   "metadata": {},
   "outputs": [],
   "source": [
    "tmpS = SimpFunc(1,2)\n",
    "print(f'Sum is {tmpS}')"
   ]
  },
  {
   "cell_type": "code",
   "execution_count": 37,
   "id": "be1a9562-010f-47fe-b123-bc8ae327ae74",
   "metadata": {},
   "outputs": [
    {
     "name": "stdout",
     "output_type": "stream",
     "text": [
      " 1 is odd \n",
      " 2 is even \n",
      " 3 is odd \n",
      " 4 is even \n",
      " 5 is odd \n",
      " 6 is even \n"
     ]
    }
   ],
   "source": [
    "tmpList = [1, 2, 3, 4, 5, 6]\n",
    "\n",
    "for n in tmpList:\n",
    "    if (n % 2 == 0):\n",
    "        print(f' {n} is even ')\n",
    "    else:\n",
    "        print(f' {n} is odd ')"
   ]
  },
  {
   "cell_type": "code",
   "execution_count": 44,
   "id": "78b178f7-615c-483a-9db2-35c28d1058ec",
   "metadata": {},
   "outputs": [],
   "source": [
    "def Square(x):\n",
    "    return x*x"
   ]
  },
  {
   "cell_type": "code",
   "execution_count": 45,
   "id": "0b24067d-80fa-4b7f-8e4a-5b85183562aa",
   "metadata": {},
   "outputs": [
    {
     "name": "stdout",
     "output_type": "stream",
     "text": [
      "16\n"
     ]
    }
   ],
   "source": [
    "print(Square(4))"
   ]
  },
  {
   "cell_type": "code",
   "execution_count": 46,
   "id": "63811962-9ab6-42d9-bf1d-eb72a0ded485",
   "metadata": {},
   "outputs": [],
   "source": [
    "def ApplyFunc(f, x):\n",
    "    return f(x)"
   ]
  },
  {
   "cell_type": "code",
   "execution_count": 47,
   "id": "57f29cf6-6cad-45e5-aff8-00c1bd4ec51d",
   "metadata": {},
   "outputs": [
    {
     "data": {
      "text/plain": [
       "9"
      ]
     },
     "execution_count": 47,
     "metadata": {},
     "output_type": "execute_result"
    }
   ],
   "source": [
    "ApplyFunc(Square, 3)"
   ]
  },
  {
   "cell_type": "code",
   "execution_count": 48,
   "id": "44cb25a8-e116-4cf6-854d-12a1cedd037d",
   "metadata": {},
   "outputs": [
    {
     "name": "stdout",
     "output_type": "stream",
     "text": [
      "256\n"
     ]
    }
   ],
   "source": [
    "print(ApplyFunc(lambda x: x*x*x*x, 4))"
   ]
  },
  {
   "cell_type": "code",
   "execution_count": null,
   "id": "90590b52-cac5-4c1f-b412-b016b1120a0b",
   "metadata": {},
   "outputs": [],
   "source": []
  }
 ],
 "metadata": {
  "kernelspec": {
   "display_name": "Python 3 (ipykernel)",
   "language": "python",
   "name": "python3"
  },
  "language_info": {
   "codemirror_mode": {
    "name": "ipython",
    "version": 3
   },
   "file_extension": ".py",
   "mimetype": "text/x-python",
   "name": "python",
   "nbconvert_exporter": "python",
   "pygments_lexer": "ipython3",
   "version": "3.11.4"
  }
 },
 "nbformat": 4,
 "nbformat_minor": 5
}
