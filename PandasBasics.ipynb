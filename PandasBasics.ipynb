{
 "cells": [
  {
   "cell_type": "code",
   "execution_count": 1,
   "id": "190a923e-d461-435c-8731-7a1ca89b7c87",
   "metadata": {},
   "outputs": [],
   "source": [
    "import numpy as np\n",
    "import pandas as pd"
   ]
  },
  {
   "cell_type": "code",
   "execution_count": 2,
   "id": "3bb1e01e-bcb5-4499-9744-479f7fbc8beb",
   "metadata": {},
   "outputs": [
    {
     "name": "stdout",
     "output_type": "stream",
     "text": [
      "a    1\n",
      "b    2\n",
      "c    3\n",
      "dtype: int32\n"
     ]
    }
   ],
   "source": [
    "tmpArr = np.array([1,2,3])\n",
    "indx = ['a', 'b', 'c']\n",
    "tmpSer = pd.Series(tmpArr, index = indx)\n",
    "print(tmpSer)"
   ]
  },
  {
   "cell_type": "code",
   "execution_count": 5,
   "id": "7dd5f6ac-ac62-4f30-b72b-917190fd3f91",
   "metadata": {},
   "outputs": [
    {
     "name": "stdout",
     "output_type": "stream",
     "text": [
      "    col0  col1  col2\n",
      "r0    10    20    30\n",
      "r1    40    50    60\n"
     ]
    }
   ],
   "source": [
    "tmpArr2 = np.array([ [10,20,30], [40,50,60] ])\n",
    "rN = ['r0', 'r1']\n",
    "cN = ['col0', 'col1', 'col2']\n",
    "tmpDF = pd.DataFrame(tmpArr2, index=rN, columns= cN)\n",
    "print(tmpDF)"
   ]
  },
  {
   "cell_type": "code",
   "execution_count": 22,
   "id": "e02f2400-1de2-425a-990e-c10c22a5acf2",
   "metadata": {},
   "outputs": [
    {
     "name": "stdout",
     "output_type": "stream",
     "text": [
      " tmpSer[\"a\"] = 1, 1 \n",
      " tmpDF[\"r1\",\"col2\"] = 60,  60 \n",
      " column access \n",
      " r0    10\n",
      "r1    40\n",
      "Name: col0, dtype: int32 \n",
      " r0    10\n",
      "r1    40\n",
      "Name: col0, dtype: int32 \n",
      " element access using column 50 , 50\n"
     ]
    }
   ],
   "source": [
    "print(f' tmpSer[\"a\"] = {tmpSer[\"a\"]}, {tmpSer[0]} ')\n",
    "print(f' tmpDF[\"r1\",\"col2\"] = {tmpDF.loc[\"r1\"].at[\"col2\"]},  {tmpDF.iat[1,2]} ')\n",
    "print(f' column access \\n {tmpDF[\"col0\"]} \\n {tmpDF.col0} ')\n",
    "print(f' element access using column {tmpDF[\"col1\"][\"r1\"]} , {tmpDF.col1[1]}')"
   ]
  },
  {
   "cell_type": "code",
   "execution_count": null,
   "id": "3378f3c9-e7f8-4b58-ac3e-56135d09d70e",
   "metadata": {},
   "outputs": [],
   "source": []
  }
 ],
 "metadata": {
  "kernelspec": {
   "display_name": "Python 3 (ipykernel)",
   "language": "python",
   "name": "python3"
  },
  "language_info": {
   "codemirror_mode": {
    "name": "ipython",
    "version": 3
   },
   "file_extension": ".py",
   "mimetype": "text/x-python",
   "name": "python",
   "nbconvert_exporter": "python",
   "pygments_lexer": "ipython3",
   "version": "3.11.4"
  }
 },
 "nbformat": 4,
 "nbformat_minor": 5
}
