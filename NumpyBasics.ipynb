{
 "cells": [
  {
   "cell_type": "code",
   "execution_count": 1,
   "id": "77108355-cb8a-44b1-b6a7-bc852c441293",
   "metadata": {},
   "outputs": [],
   "source": [
    "import numpy as np"
   ]
  },
  {
   "cell_type": "code",
   "execution_count": 2,
   "id": "18a2f67c-b741-4e93-abc7-da4f16a1c7b3",
   "metadata": {},
   "outputs": [
    {
     "name": "stdout",
     "output_type": "stream",
     "text": [
      "[1 2 3]\n",
      "(3,)\n"
     ]
    }
   ],
   "source": [
    "tmpList = [1,2,3]\n",
    "tmpArr = np.array(tmpList)\n",
    "print(tmpArr)\n",
    "print(tmpArr.shape)"
   ]
  },
  {
   "cell_type": "code",
   "execution_count": 10,
   "id": "faeb9487-9caa-4b9c-af81-4c8988a5cfeb",
   "metadata": {},
   "outputs": [
    {
     "name": "stdout",
     "output_type": "stream",
     "text": [
      "[[ 1  2  3]\n",
      " [ 3  4  5]\n",
      " [ 6  7  8]\n",
      " [ 9 10 11]]\n",
      "(4, 3)\n"
     ]
    }
   ],
   "source": [
    "tmpList2 = [[1,2,3], [3,4,5], [6,7,8], [9,10,11]]\n",
    "tmpArr2 = np.array(tmpList2)\n",
    "print(tmpArr2)\n",
    "print(tmpArr2.shape)"
   ]
  },
  {
   "cell_type": "code",
   "execution_count": 11,
   "id": "3413419d-dde9-4c35-8154-7d291284f699",
   "metadata": {},
   "outputs": [
    {
     "name": "stdout",
     "output_type": "stream",
     "text": [
      " first row [1 2 3] , second row [3 4 5], last row [ 9 10 11] \n"
     ]
    }
   ],
   "source": [
    "print(f' first row {tmpArr2[0]} , second row {tmpArr2[1]}, last row {tmpArr2[-1]} ')"
   ]
  },
  {
   "cell_type": "code",
   "execution_count": 12,
   "id": "298ef349-5076-412a-ac24-fdd38c9665f3",
   "metadata": {},
   "outputs": [
    {
     "name": "stdout",
     "output_type": "stream",
     "text": [
      " element in 2nd row, 3rd col 5 \n"
     ]
    }
   ],
   "source": [
    "print(f' element in 2nd row, 3rd col {tmpArr2[1,2]} ')"
   ]
  },
  {
   "cell_type": "code",
   "execution_count": 13,
   "id": "088e973d-251c-496c-be1f-9d60d6b56167",
   "metadata": {},
   "outputs": [
    {
     "name": "stdout",
     "output_type": "stream",
     "text": [
      " 2nd column is [ 2  4  7 10] shape is (4,) \n"
     ]
    }
   ],
   "source": [
    "secCol = tmpArr2[:,1]\n",
    "print(f' 2nd column is {secCol} shape is {secCol.shape} ')"
   ]
  },
  {
   "cell_type": "code",
   "execution_count": 14,
   "id": "706c14b0-4f2f-4604-9346-3088c4f1b419",
   "metadata": {},
   "outputs": [
    {
     "name": "stdout",
     "output_type": "stream",
     "text": [
      "[5 7 9]\n",
      "[-3 -3 -3]\n",
      "[ 4 10 18]\n",
      "[0.25 0.4  0.5 ]\n"
     ]
    }
   ],
   "source": [
    "#simple arithmetic\n",
    "arr1 = np.array([1,2,3]) \n",
    "arr2 = np.array([4,5,6])\n",
    "sArr = arr1 + arr2\n",
    "dArr = arr1 - arr2\n",
    "mArr = arr1 * arr2\n",
    "divArr = arr1 / arr2\n",
    "print(sArr)\n",
    "print(dArr)\n",
    "print(mArr)\n",
    "print(divArr)"
   ]
  },
  {
   "cell_type": "code",
   "execution_count": null,
   "id": "001e40f6-31ed-45bc-8121-112872e0f5d2",
   "metadata": {},
   "outputs": [],
   "source": []
  }
 ],
 "metadata": {
  "kernelspec": {
   "display_name": "Python 3 (ipykernel)",
   "language": "python",
   "name": "python3"
  },
  "language_info": {
   "codemirror_mode": {
    "name": "ipython",
    "version": 3
   },
   "file_extension": ".py",
   "mimetype": "text/x-python",
   "name": "python",
   "nbconvert_exporter": "python",
   "pygments_lexer": "ipython3",
   "version": "3.11.4"
  }
 },
 "nbformat": 4,
 "nbformat_minor": 5
}
