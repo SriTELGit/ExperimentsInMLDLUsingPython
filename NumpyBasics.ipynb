{
 "cells": [
  {
   "cell_type": "code",
   "execution_count": 1,
   "id": "77108355-cb8a-44b1-b6a7-bc852c441293",
   "metadata": {},
   "outputs": [],
   "source": [
    "import numpy as np"
   ]
  },
  {
   "cell_type": "code",
   "execution_count": 2,
   "id": "18a2f67c-b741-4e93-abc7-da4f16a1c7b3",
   "metadata": {},
   "outputs": [
    {
     "name": "stdout",
     "output_type": "stream",
     "text": [
      "[1 2 3]\n",
      "(3,)\n"
     ]
    }
   ],
   "source": [
    "tmpList = [1,2,3]\n",
    "tmpArr = np.array(tmpList)\n",
    "print(tmpArr)\n",
    "print(tmpArr.shape)"
   ]
  },
  {
   "cell_type": "code",
   "execution_count": 10,
   "id": "faeb9487-9caa-4b9c-af81-4c8988a5cfeb",
   "metadata": {},
   "outputs": [
    {
     "name": "stdout",
     "output_type": "stream",
     "text": [
      "[[ 1  2  3]\n",
      " [ 3  4  5]\n",
      " [ 6  7  8]\n",
      " [ 9 10 11]]\n",
      "(4, 3)\n"
     ]
    }
   ],
   "source": [
    "tmpList2 = [[1,2,3], [3,4,5], [6,7,8], [9,10,11]]\n",
    "tmpArr2 = np.array(tmpList2)\n",
    "print(tmpArr2)\n",
    "print(tmpArr2.shape)"
   ]
  },
  {
   "cell_type": "code",
   "execution_count": 11,
   "id": "3413419d-dde9-4c35-8154-7d291284f699",
   "metadata": {},
   "outputs": [
    {
     "name": "stdout",
     "output_type": "stream",
     "text": [
      " first row [1 2 3] , second row [3 4 5], last row [ 9 10 11] \n"
     ]
    }
   ],
   "source": [
    "print(f' first row {tmpArr2[0]} , second row {tmpArr2[1]}, last row {tmpArr2[-1]} ')"
   ]
  },
  {
   "cell_type": "code",
   "execution_count": 12,
   "id": "298ef349-5076-412a-ac24-fdd38c9665f3",
   "metadata": {},
   "outputs": [
    {
     "name": "stdout",
     "output_type": "stream",
     "text": [
      " element in 2nd row, 3rd col 5 \n"
     ]
    }
   ],
   "source": [
    "print(f' element in 2nd row, 3rd col {tmpArr2[1,2]} ')"
   ]
  },
  {
   "cell_type": "code",
   "execution_count": 13,
   "id": "088e973d-251c-496c-be1f-9d60d6b56167",
   "metadata": {},
   "outputs": [
    {
     "name": "stdout",
     "output_type": "stream",
     "text": [
      " 2nd column is [ 2  4  7 10] shape is (4,) \n"
     ]
    }
   ],
   "source": [
    "secCol = tmpArr2[:,1]\n",
    "print(f' 2nd column is {secCol} shape is {secCol.shape} ')"
   ]
  },
  {
   "cell_type": "code",
   "execution_count": 14,
   "id": "706c14b0-4f2f-4604-9346-3088c4f1b419",
   "metadata": {},
   "outputs": [
    {
     "name": "stdout",
     "output_type": "stream",
     "text": [
      "[5 7 9]\n",
      "[-3 -3 -3]\n",
      "[ 4 10 18]\n",
      "[0.25 0.4  0.5 ]\n"
     ]
    }
   ],
   "source": [
    "#simple arithmetic\n",
    "arr1 = np.array([1,2,3]) \n",
    "arr2 = np.array([4,5,6])\n",
    "sArr = arr1 + arr2\n",
    "dArr = arr1 - arr2\n",
    "mArr = arr1 * arr2\n",
    "divArr = arr1 / arr2\n",
    "print(sArr)\n",
    "print(dArr)\n",
    "print(mArr)\n",
    "print(divArr)"
   ]
  },
  {
   "cell_type": "code",
   "execution_count": 16,
   "id": "001e40f6-31ed-45bc-8121-112872e0f5d2",
   "metadata": {},
   "outputs": [
    {
     "name": "stdout",
     "output_type": "stream",
     "text": [
      "[20.00968866 20.80786967 24.75435915 20.23340848 33.55236348 24.44129638\n",
      " 25.47788437 23.05963656 22.64768389 28.11014451 22.76610105 22.02935802\n",
      " 32.24109917 20.64376708 15.6978106  19.29473582 23.18187961 26.80022063\n",
      " 21.28838688 24.81686912]\n"
     ]
    }
   ],
   "source": [
    "nRandArr = np.random.normal(25, 5, 20)\n",
    "print(nRandArr)"
   ]
  },
  {
   "cell_type": "code",
   "execution_count": 22,
   "id": "ba95410a-256c-4731-bf19-fe2505756faa",
   "metadata": {},
   "outputs": [
    {
     "name": "stdout",
     "output_type": "stream",
     "text": [
      " first 3 elems [20.00968866 20.80786967 24.75435915] \n",
      " all after 15th elems [19.29473582 23.18187961 26.80022063 21.28838688 24.81686912] \n",
      " last 2 elem [21.288386880398026, 24.816869118213084] \n",
      " after extension [21.288386880398026, 24.816869118213084, 1.2, 2.3] \n",
      " after appending [21.288386880398026, 24.816869118213084, 1.2, 2.3, 3.5] \n",
      " after sorting in reverse [24.816869118213084, 21.288386880398026, 3.5, 2.3, 1.2] \n"
     ]
    }
   ],
   "source": [
    "print(f' first 3 elems {nRandArr[:3]} ')\n",
    "print(f' all after 15th elems {nRandArr[15:]} ')\n",
    "tmpLastTwo = nRandArr[-2:].tolist()\n",
    "print(f' last 2 elem {tmpLastTwo} ')\n",
    "tmpLastTwo.extend([1.2, 2.3])\n",
    "print(f' after extension {tmpLastTwo} ')\n",
    "tmpLastTwo.append(3.5)\n",
    "print(f' after appending {tmpLastTwo} ')\n",
    "tmpLastTwo.sort(reverse=True)\n",
    "print(f' after sorting in reverse {tmpLastTwo} ')"
   ]
  },
  {
   "cell_type": "code",
   "execution_count": null,
   "id": "c74c5998-7cfc-4282-b83a-3730b5ecef79",
   "metadata": {},
   "outputs": [],
   "source": []
  }
 ],
 "metadata": {
  "kernelspec": {
   "display_name": "Python 3 (ipykernel)",
   "language": "python",
   "name": "python3"
  },
  "language_info": {
   "codemirror_mode": {
    "name": "ipython",
    "version": 3
   },
   "file_extension": ".py",
   "mimetype": "text/x-python",
   "name": "python",
   "nbconvert_exporter": "python",
   "pygments_lexer": "ipython3",
   "version": "3.11.4"
  }
 },
 "nbformat": 4,
 "nbformat_minor": 5
}
